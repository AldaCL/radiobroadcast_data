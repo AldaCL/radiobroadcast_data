{
 "cells": [
  {
   "cell_type": "markdown",
   "id": "263452c1",
   "metadata": {
    "tags": []
   },
   "source": [
    "# Análisis de datos de Radiodifusión en AM/FM\n",
    "\n",
    "## Unidad de Medios y Contenidos Audiovisuales\n",
    "### Subdirección de Validación\n",
    "---\n",
    "\n",
    "<img src=\"./Datos/assets/IFTheader.png\"\n",
    "     alt=\"IFTicon\"\n",
    "     style = 'position:absolute; top:0; right:0; padding:2px;'/>\n",
    "     \n",
    "     \n",
    " "
   ]
  },
  {
   "cell_type": "markdown",
   "id": "ec9a1cf8",
   "metadata": {},
   "source": [
    "La presente *notebook*, tiene por objetivo ser una herramienta de análisis y trabajo, que de la mano con las bases de datos, faciliten y optimicen los procesos realizados dentro de la subdirección. Especificamente, aquellos que implican el procesamiento de coberturas, listado de localidades, valores porcentuales de cobertura y extensión geográfica; por ejemplo, las publicaciones del análisis para la **Retransmisión de señales**, cuyo sustento es el análisis de cobertura porcentual nácional por cada canal de programación transmitido por las estaciones de TDT."
   ]
  },
  {
   "cell_type": "markdown",
   "id": "4df05e3f",
   "metadata": {},
   "source": [
    "En primera instancia, se realiza a manera de ejemplo, el análisis para las estaciones de radiodifusión sonora en AM y FM. Este primer ejemplo, explicará los requerimientos de procesamiento, formato de datos, bibliotecas empleadas y demás pormenores que deberán ser atendidos para obtener resultados consistentes al emplear esta herramienta.\n",
    "\n",
    "Una de las ventajas y un objetivo adicional que se busca con la integración de la presente *notebook* es facilitar la lectura, mantenimiento y entendimiento del código que se utiliza en los análisis que ya se realizan al día de hoy mediante una adecuada documentación."
   ]
  },
  {
   "cell_type": "markdown",
   "id": "9e4b1b12",
   "metadata": {},
   "source": [
    "# Radiodifusión sonora en FM\n"
   ]
  },
  {
   "cell_type": "markdown",
   "id": "4a9ce949",
   "metadata": {},
   "source": [
    "Importamos las bibliotecas necesarias para el procesamiento y análisis de datos; así como la visualización y tratamiento de datos georeferenciados."
   ]
  },
  {
   "cell_type": "code",
   "execution_count": 1,
   "id": "9e11cec7",
   "metadata": {
    "tags": []
   },
   "outputs": [],
   "source": [
    "import csv #For .csv format files\n",
    "import glob #Helps to use unix-like path expresions, (/ , ./ , ..) \n",
    "import os #Write and read data from filesystem.\n",
    "import pandas as pd \n",
    "import collections\n",
    "import geopandas as gpd\n",
    "from tqdm.notebook import tqdm, trange\n",
    "\n",
    "import matplotlib.pyplot as plt\n",
    "import seaborn as sns\n",
    "import numpy as np\n",
    "import mapclassify as mc\n",
    "import matplotlib as mpl\n",
    "\n",
    "# from tqdm import trange, tqdm\n"
   ]
  },
  {
   "cell_type": "code",
   "execution_count": 2,
   "id": "5a5e806d",
   "metadata": {},
   "outputs": [],
   "source": [
    "from IPython.display import display, Markdown"
   ]
  },
  {
   "cell_type": "code",
   "execution_count": 3,
   "id": "ab375d0c-b1aa-41f4-a4c7-d08a4d33fae2",
   "metadata": {},
   "outputs": [
    {
     "name": "stdout",
     "output_type": "stream",
     "text": [
      "Requirement already satisfied: jupyter_bokeh in /opt/conda/lib/python3.8/site-packages (3.0.0)\n",
      "Requirement already satisfied: bokeh>=2.0.0 in /opt/conda/lib/python3.8/site-packages (from jupyter_bokeh) (2.3.1)\n",
      "Requirement already satisfied: ipywidgets>=7.6.0 in /opt/conda/lib/python3.8/site-packages (from jupyter_bokeh) (7.6.3)\n",
      "Requirement already satisfied: packaging>=16.8 in /opt/conda/lib/python3.8/site-packages (from bokeh>=2.0.0->jupyter_bokeh) (20.9)\n",
      "Requirement already satisfied: pillow>=7.1.0 in /opt/conda/lib/python3.8/site-packages (from bokeh>=2.0.0->jupyter_bokeh) (8.2.0)\n",
      "Requirement already satisfied: numpy>=1.11.3 in /opt/conda/lib/python3.8/site-packages (from bokeh>=2.0.0->jupyter_bokeh) (1.20.2)\n",
      "Requirement already satisfied: Jinja2>=2.7 in /opt/conda/lib/python3.8/site-packages (from bokeh>=2.0.0->jupyter_bokeh) (2.11.3)\n",
      "Requirement already satisfied: PyYAML>=3.10 in /opt/conda/lib/python3.8/site-packages (from bokeh>=2.0.0->jupyter_bokeh) (5.4.1)\n",
      "Requirement already satisfied: tornado>=5.1 in /opt/conda/lib/python3.8/site-packages (from bokeh>=2.0.0->jupyter_bokeh) (6.1)\n",
      "Requirement already satisfied: typing-extensions>=3.7.4 in /opt/conda/lib/python3.8/site-packages (from bokeh>=2.0.0->jupyter_bokeh) (3.7.4.3)\n",
      "Requirement already satisfied: python-dateutil>=2.1 in /opt/conda/lib/python3.8/site-packages (from bokeh>=2.0.0->jupyter_bokeh) (2.8.1)\n",
      "Requirement already satisfied: ipython>=4.0.0 in /opt/conda/lib/python3.8/site-packages (from ipywidgets>=7.6.0->jupyter_bokeh) (7.22.0)\n",
      "Requirement already satisfied: traitlets>=4.3.1 in /opt/conda/lib/python3.8/site-packages (from ipywidgets>=7.6.0->jupyter_bokeh) (5.0.5)\n",
      "Requirement already satisfied: widgetsnbextension~=3.5.0 in /opt/conda/lib/python3.8/site-packages (from ipywidgets>=7.6.0->jupyter_bokeh) (3.5.1)\n",
      "Requirement already satisfied: jupyterlab-widgets>=1.0.0 in /opt/conda/lib/python3.8/site-packages (from ipywidgets>=7.6.0->jupyter_bokeh) (1.0.0)\n",
      "Requirement already satisfied: ipykernel>=4.5.1 in /opt/conda/lib/python3.8/site-packages (from ipywidgets>=7.6.0->jupyter_bokeh) (5.5.3)\n",
      "Requirement already satisfied: nbformat>=4.2.0 in /opt/conda/lib/python3.8/site-packages (from ipywidgets>=7.6.0->jupyter_bokeh) (5.1.3)\n",
      "Requirement already satisfied: jupyter-client in /opt/conda/lib/python3.8/site-packages (from ipykernel>=4.5.1->ipywidgets>=7.6.0->jupyter_bokeh) (6.1.12)\n",
      "Requirement already satisfied: pygments in /opt/conda/lib/python3.8/site-packages (from ipython>=4.0.0->ipywidgets>=7.6.0->jupyter_bokeh) (2.8.1)\n",
      "Requirement already satisfied: backcall in /opt/conda/lib/python3.8/site-packages (from ipython>=4.0.0->ipywidgets>=7.6.0->jupyter_bokeh) (0.2.0)\n",
      "Requirement already satisfied: setuptools>=18.5 in /opt/conda/lib/python3.8/site-packages (from ipython>=4.0.0->ipywidgets>=7.6.0->jupyter_bokeh) (49.6.0.post20210108)\n",
      "Requirement already satisfied: jedi>=0.16 in /opt/conda/lib/python3.8/site-packages (from ipython>=4.0.0->ipywidgets>=7.6.0->jupyter_bokeh) (0.18.0)\n",
      "Requirement already satisfied: pickleshare in /opt/conda/lib/python3.8/site-packages (from ipython>=4.0.0->ipywidgets>=7.6.0->jupyter_bokeh) (0.7.5)\n",
      "Requirement already satisfied: decorator in /opt/conda/lib/python3.8/site-packages (from ipython>=4.0.0->ipywidgets>=7.6.0->jupyter_bokeh) (4.4.2)\n",
      "Requirement already satisfied: pexpect>4.3 in /opt/conda/lib/python3.8/site-packages (from ipython>=4.0.0->ipywidgets>=7.6.0->jupyter_bokeh) (4.8.0)\n",
      "Requirement already satisfied: prompt-toolkit!=3.0.0,!=3.0.1,<3.1.0,>=2.0.0 in /opt/conda/lib/python3.8/site-packages (from ipython>=4.0.0->ipywidgets>=7.6.0->jupyter_bokeh) (3.0.18)\n",
      "Requirement already satisfied: parso<0.9.0,>=0.8.0 in /opt/conda/lib/python3.8/site-packages (from jedi>=0.16->ipython>=4.0.0->ipywidgets>=7.6.0->jupyter_bokeh) (0.8.2)\n",
      "Requirement already satisfied: MarkupSafe>=0.23 in /opt/conda/lib/python3.8/site-packages (from Jinja2>=2.7->bokeh>=2.0.0->jupyter_bokeh) (1.1.1)\n",
      "Requirement already satisfied: jupyter-core in /opt/conda/lib/python3.8/site-packages (from nbformat>=4.2.0->ipywidgets>=7.6.0->jupyter_bokeh) (4.7.1)\n",
      "Requirement already satisfied: jsonschema!=2.5.0,>=2.4 in /opt/conda/lib/python3.8/site-packages (from nbformat>=4.2.0->ipywidgets>=7.6.0->jupyter_bokeh) (3.2.0)\n",
      "Requirement already satisfied: ipython-genutils in /opt/conda/lib/python3.8/site-packages (from nbformat>=4.2.0->ipywidgets>=7.6.0->jupyter_bokeh) (0.2.0)\n",
      "Requirement already satisfied: pyrsistent>=0.14.0 in /opt/conda/lib/python3.8/site-packages (from jsonschema!=2.5.0,>=2.4->nbformat>=4.2.0->ipywidgets>=7.6.0->jupyter_bokeh) (0.17.3)\n",
      "Requirement already satisfied: attrs>=17.4.0 in /opt/conda/lib/python3.8/site-packages (from jsonschema!=2.5.0,>=2.4->nbformat>=4.2.0->ipywidgets>=7.6.0->jupyter_bokeh) (20.3.0)\n",
      "Requirement already satisfied: six>=1.11.0 in /opt/conda/lib/python3.8/site-packages (from jsonschema!=2.5.0,>=2.4->nbformat>=4.2.0->ipywidgets>=7.6.0->jupyter_bokeh) (1.15.0)\n",
      "Requirement already satisfied: pyparsing>=2.0.2 in /opt/conda/lib/python3.8/site-packages (from packaging>=16.8->bokeh>=2.0.0->jupyter_bokeh) (2.4.7)\n",
      "Requirement already satisfied: ptyprocess>=0.5 in /opt/conda/lib/python3.8/site-packages (from pexpect>4.3->ipython>=4.0.0->ipywidgets>=7.6.0->jupyter_bokeh) (0.7.0)\n",
      "Requirement already satisfied: wcwidth in /opt/conda/lib/python3.8/site-packages (from prompt-toolkit!=3.0.0,!=3.0.1,<3.1.0,>=2.0.0->ipython>=4.0.0->ipywidgets>=7.6.0->jupyter_bokeh) (0.2.5)\n",
      "Requirement already satisfied: notebook>=4.4.1 in /opt/conda/lib/python3.8/site-packages (from widgetsnbextension~=3.5.0->ipywidgets>=7.6.0->jupyter_bokeh) (6.3.0)\n",
      "Requirement already satisfied: argon2-cffi in /opt/conda/lib/python3.8/site-packages (from notebook>=4.4.1->widgetsnbextension~=3.5.0->ipywidgets>=7.6.0->jupyter_bokeh) (20.1.0)\n",
      "Requirement already satisfied: pyzmq>=17 in /opt/conda/lib/python3.8/site-packages (from notebook>=4.4.1->widgetsnbextension~=3.5.0->ipywidgets>=7.6.0->jupyter_bokeh) (22.0.3)\n",
      "Requirement already satisfied: terminado>=0.8.3 in /opt/conda/lib/python3.8/site-packages (from notebook>=4.4.1->widgetsnbextension~=3.5.0->ipywidgets>=7.6.0->jupyter_bokeh) (0.9.4)\n",
      "Requirement already satisfied: nbconvert in /opt/conda/lib/python3.8/site-packages (from notebook>=4.4.1->widgetsnbextension~=3.5.0->ipywidgets>=7.6.0->jupyter_bokeh) (6.0.7)\n",
      "Requirement already satisfied: Send2Trash>=1.5.0 in /opt/conda/lib/python3.8/site-packages (from notebook>=4.4.1->widgetsnbextension~=3.5.0->ipywidgets>=7.6.0->jupyter_bokeh) (1.5.0)\n",
      "Requirement already satisfied: prometheus-client in /opt/conda/lib/python3.8/site-packages (from notebook>=4.4.1->widgetsnbextension~=3.5.0->ipywidgets>=7.6.0->jupyter_bokeh) (0.10.1)\n",
      "Requirement already satisfied: cffi>=1.0.0 in /opt/conda/lib/python3.8/site-packages (from argon2-cffi->notebook>=4.4.1->widgetsnbextension~=3.5.0->ipywidgets>=7.6.0->jupyter_bokeh) (1.14.5)\n",
      "Requirement already satisfied: pycparser in /opt/conda/lib/python3.8/site-packages (from cffi>=1.0.0->argon2-cffi->notebook>=4.4.1->widgetsnbextension~=3.5.0->ipywidgets>=7.6.0->jupyter_bokeh) (2.20)\n",
      "Requirement already satisfied: jupyterlab-pygments in /opt/conda/lib/python3.8/site-packages (from nbconvert->notebook>=4.4.1->widgetsnbextension~=3.5.0->ipywidgets>=7.6.0->jupyter_bokeh) (0.1.2)\n",
      "Requirement already satisfied: bleach in /opt/conda/lib/python3.8/site-packages (from nbconvert->notebook>=4.4.1->widgetsnbextension~=3.5.0->ipywidgets>=7.6.0->jupyter_bokeh) (3.3.0)\n",
      "Requirement already satisfied: defusedxml in /opt/conda/lib/python3.8/site-packages (from nbconvert->notebook>=4.4.1->widgetsnbextension~=3.5.0->ipywidgets>=7.6.0->jupyter_bokeh) (0.7.1)\n",
      "Requirement already satisfied: mistune<2,>=0.8.1 in /opt/conda/lib/python3.8/site-packages (from nbconvert->notebook>=4.4.1->widgetsnbextension~=3.5.0->ipywidgets>=7.6.0->jupyter_bokeh) (0.8.4)\n",
      "Requirement already satisfied: entrypoints>=0.2.2 in /opt/conda/lib/python3.8/site-packages (from nbconvert->notebook>=4.4.1->widgetsnbextension~=3.5.0->ipywidgets>=7.6.0->jupyter_bokeh) (0.3)\n",
      "Requirement already satisfied: pandocfilters>=1.4.1 in /opt/conda/lib/python3.8/site-packages (from nbconvert->notebook>=4.4.1->widgetsnbextension~=3.5.0->ipywidgets>=7.6.0->jupyter_bokeh) (1.4.3)\n",
      "Requirement already satisfied: nbclient<0.6.0,>=0.5.0 in /opt/conda/lib/python3.8/site-packages (from nbconvert->notebook>=4.4.1->widgetsnbextension~=3.5.0->ipywidgets>=7.6.0->jupyter_bokeh) (0.5.3)\n",
      "Requirement already satisfied: testpath in /opt/conda/lib/python3.8/site-packages (from nbconvert->notebook>=4.4.1->widgetsnbextension~=3.5.0->ipywidgets>=7.6.0->jupyter_bokeh) (0.4.4)\n",
      "Requirement already satisfied: nest-asyncio in /opt/conda/lib/python3.8/site-packages (from nbclient<0.6.0,>=0.5.0->nbconvert->notebook>=4.4.1->widgetsnbextension~=3.5.0->ipywidgets>=7.6.0->jupyter_bokeh) (1.5.1)\n",
      "Requirement already satisfied: async-generator in /opt/conda/lib/python3.8/site-packages (from nbclient<0.6.0,>=0.5.0->nbconvert->notebook>=4.4.1->widgetsnbextension~=3.5.0->ipywidgets>=7.6.0->jupyter_bokeh) (1.10)\n",
      "Requirement already satisfied: webencodings in /opt/conda/lib/python3.8/site-packages (from bleach->nbconvert->notebook>=4.4.1->widgetsnbextension~=3.5.0->ipywidgets>=7.6.0->jupyter_bokeh) (0.5.1)\n"
     ]
    }
   ],
   "source": [
    "!pip install jupyter_bokeh "
   ]
  },
  {
   "cell_type": "code",
   "execution_count": 4,
   "id": "3d220804",
   "metadata": {},
   "outputs": [],
   "source": [
    "# !pip install mapclassify\n",
    "# !pip install openpyxl\n",
    "# !pip install geopandas\n",
    "# from mpl_toolkits.basemap import Basemap"
   ]
  },
  {
   "cell_type": "code",
   "execution_count": 5,
   "id": "570b6d7a",
   "metadata": {},
   "outputs": [],
   "source": [
    "#Definimos la ruta del archivo base de localidades,con la cual se compararan las coberturas.\n",
    "\n",
    "inegi_path='./Datos/Localidades_20100.csv'\n",
    "inegi_data = pd.read_csv(inegi_path,header=0, delimiter = \";\", encoding = 'latin-1')\n",
    "# print (inegi_data)\n",
    "# print (inegi_data.columns)\n",
    "\n",
    "distintivos= []\n",
    "localidades=[]\n",
    "nom_loc = []\n",
    "history = []\n"
   ]
  },
  {
   "cell_type": "markdown",
   "id": "2fda6405",
   "metadata": {},
   "source": [
    "Podemos observar la estrucutra de la tabla base de localidades INEGI 2010:"
   ]
  },
  {
   "cell_type": "code",
   "execution_count": 6,
   "id": "6a79d94f",
   "metadata": {},
   "outputs": [],
   "source": [
    "inegi_data\n",
    "pob_total_nac = inegi_data['POB_TOTAL'].sum(axis=0)"
   ]
  },
  {
   "cell_type": "code",
   "execution_count": 7,
   "id": "7a87db9f",
   "metadata": {},
   "outputs": [
    {
     "data": {
      "text/html": [
       "<div>\n",
       "<style scoped>\n",
       "    .dataframe tbody tr th:only-of-type {\n",
       "        vertical-align: middle;\n",
       "    }\n",
       "\n",
       "    .dataframe tbody tr th {\n",
       "        vertical-align: top;\n",
       "    }\n",
       "\n",
       "    .dataframe thead th {\n",
       "        text-align: right;\n",
       "    }\n",
       "</style>\n",
       "<table border=\"1\" class=\"dataframe\">\n",
       "  <thead>\n",
       "    <tr style=\"text-align: right;\">\n",
       "      <th></th>\n",
       "      <th>_ID</th>\n",
       "      <th>NO_ENT</th>\n",
       "      <th>ENTIDAD</th>\n",
       "      <th>NO_MPIO</th>\n",
       "      <th>MUNICIPIO</th>\n",
       "      <th>NO_LOC</th>\n",
       "      <th>Location</th>\n",
       "      <th>GM_2010</th>\n",
       "      <th>LONG</th>\n",
       "      <th>LAT</th>\n",
       "      <th>...</th>\n",
       "      <th>MUJERES</th>\n",
       "      <th>TOTAL_HOGA</th>\n",
       "      <th>VIVPARHA</th>\n",
       "      <th>O_VIVPAR</th>\n",
       "      <th>VPH_RADIO</th>\n",
       "      <th>VPH_TV</th>\n",
       "      <th>POB_0_17</th>\n",
       "      <th>POB_18_59</th>\n",
       "      <th>POB_MAYOR_</th>\n",
       "      <th>OID</th>\n",
       "    </tr>\n",
       "  </thead>\n",
       "  <tbody>\n",
       "    <tr>\n",
       "      <th>0</th>\n",
       "      <td>10010001</td>\n",
       "      <td>1</td>\n",
       "      <td>Aguascalientes</td>\n",
       "      <td>1</td>\n",
       "      <td>Aguascalientes</td>\n",
       "      <td>1</td>\n",
       "      <td>AGUASCALIENTES</td>\n",
       "      <td>Muy bajo</td>\n",
       "      <td>1021746</td>\n",
       "      <td>215251</td>\n",
       "      <td>...</td>\n",
       "      <td>373528.0</td>\n",
       "      <td>184123.0</td>\n",
       "      <td>185050.0</td>\n",
       "      <td>718066.0</td>\n",
       "      <td>167880.0</td>\n",
       "      <td>181062.0</td>\n",
       "      <td>255352.0</td>\n",
       "      <td>410259.0</td>\n",
       "      <td>56639.0</td>\n",
       "      <td>1</td>\n",
       "    </tr>\n",
       "    <tr>\n",
       "      <th>1</th>\n",
       "      <td>10010094</td>\n",
       "      <td>1</td>\n",
       "      <td>Aguascalientes</td>\n",
       "      <td>1</td>\n",
       "      <td>Aguascalientes</td>\n",
       "      <td>94</td>\n",
       "      <td>GRANJA ADELITA</td>\n",
       "      <td>x</td>\n",
       "      <td>1022225</td>\n",
       "      <td>215219</td>\n",
       "      <td>...</td>\n",
       "      <td>NaN</td>\n",
       "      <td>NaN</td>\n",
       "      <td>NaN</td>\n",
       "      <td>NaN</td>\n",
       "      <td>NaN</td>\n",
       "      <td>NaN</td>\n",
       "      <td>NaN</td>\n",
       "      <td>NaN</td>\n",
       "      <td>NaN</td>\n",
       "      <td>2</td>\n",
       "    </tr>\n",
       "    <tr>\n",
       "      <th>2</th>\n",
       "      <td>10010096</td>\n",
       "      <td>1</td>\n",
       "      <td>Aguascalientes</td>\n",
       "      <td>1</td>\n",
       "      <td>Aguascalientes</td>\n",
       "      <td>96</td>\n",
       "      <td>AGUA AZUL</td>\n",
       "      <td>Alto</td>\n",
       "      <td>1022127</td>\n",
       "      <td>215303</td>\n",
       "      <td>...</td>\n",
       "      <td>16.0</td>\n",
       "      <td>11.0</td>\n",
       "      <td>11.0</td>\n",
       "      <td>37.0</td>\n",
       "      <td>8.0</td>\n",
       "      <td>11.0</td>\n",
       "      <td>12.0</td>\n",
       "      <td>21.0</td>\n",
       "      <td>4.0</td>\n",
       "      <td>3</td>\n",
       "    </tr>\n",
       "    <tr>\n",
       "      <th>3</th>\n",
       "      <td>10010100</td>\n",
       "      <td>1</td>\n",
       "      <td>Aguascalientes</td>\n",
       "      <td>1</td>\n",
       "      <td>Aguascalientes</td>\n",
       "      <td>100</td>\n",
       "      <td>RANCHO ALEGRE</td>\n",
       "      <td>x</td>\n",
       "      <td>1022222</td>\n",
       "      <td>215116</td>\n",
       "      <td>...</td>\n",
       "      <td>NaN</td>\n",
       "      <td>NaN</td>\n",
       "      <td>NaN</td>\n",
       "      <td>NaN</td>\n",
       "      <td>NaN</td>\n",
       "      <td>NaN</td>\n",
       "      <td>NaN</td>\n",
       "      <td>NaN</td>\n",
       "      <td>NaN</td>\n",
       "      <td>4</td>\n",
       "    </tr>\n",
       "    <tr>\n",
       "      <th>4</th>\n",
       "      <td>10010102</td>\n",
       "      <td>1</td>\n",
       "      <td>Aguascalientes</td>\n",
       "      <td>1</td>\n",
       "      <td>Aguascalientes</td>\n",
       "      <td>102</td>\n",
       "      <td>LOS ARBOLITOS [RANCHO]</td>\n",
       "      <td>x</td>\n",
       "      <td>1022126</td>\n",
       "      <td>214649</td>\n",
       "      <td>...</td>\n",
       "      <td>NaN</td>\n",
       "      <td>NaN</td>\n",
       "      <td>NaN</td>\n",
       "      <td>NaN</td>\n",
       "      <td>NaN</td>\n",
       "      <td>NaN</td>\n",
       "      <td>NaN</td>\n",
       "      <td>NaN</td>\n",
       "      <td>NaN</td>\n",
       "      <td>5</td>\n",
       "    </tr>\n",
       "    <tr>\n",
       "      <th>...</th>\n",
       "      <td>...</td>\n",
       "      <td>...</td>\n",
       "      <td>...</td>\n",
       "      <td>...</td>\n",
       "      <td>...</td>\n",
       "      <td>...</td>\n",
       "      <td>...</td>\n",
       "      <td>...</td>\n",
       "      <td>...</td>\n",
       "      <td>...</td>\n",
       "      <td>...</td>\n",
       "      <td>...</td>\n",
       "      <td>...</td>\n",
       "      <td>...</td>\n",
       "      <td>...</td>\n",
       "      <td>...</td>\n",
       "      <td>...</td>\n",
       "      <td>...</td>\n",
       "      <td>...</td>\n",
       "      <td>...</td>\n",
       "      <td>...</td>\n",
       "    </tr>\n",
       "    <tr>\n",
       "      <th>192240</th>\n",
       "      <td>320580036</td>\n",
       "      <td>32</td>\n",
       "      <td>Zacatecas</td>\n",
       "      <td>58</td>\n",
       "      <td>Santa María de la Paz</td>\n",
       "      <td>36</td>\n",
       "      <td>MARINES</td>\n",
       "      <td>x</td>\n",
       "      <td>1032337</td>\n",
       "      <td>213347</td>\n",
       "      <td>...</td>\n",
       "      <td>NaN</td>\n",
       "      <td>NaN</td>\n",
       "      <td>NaN</td>\n",
       "      <td>NaN</td>\n",
       "      <td>NaN</td>\n",
       "      <td>NaN</td>\n",
       "      <td>NaN</td>\n",
       "      <td>NaN</td>\n",
       "      <td>NaN</td>\n",
       "      <td>192241</td>\n",
       "    </tr>\n",
       "    <tr>\n",
       "      <th>192241</th>\n",
       "      <td>320580037</td>\n",
       "      <td>32</td>\n",
       "      <td>Zacatecas</td>\n",
       "      <td>58</td>\n",
       "      <td>Santa María de la Paz</td>\n",
       "      <td>37</td>\n",
       "      <td>MESA GRANDE</td>\n",
       "      <td>Medio</td>\n",
       "      <td>1032457</td>\n",
       "      <td>213317</td>\n",
       "      <td>...</td>\n",
       "      <td>99.0</td>\n",
       "      <td>47.0</td>\n",
       "      <td>47.0</td>\n",
       "      <td>192.0</td>\n",
       "      <td>43.0</td>\n",
       "      <td>43.0</td>\n",
       "      <td>71.0</td>\n",
       "      <td>38.0</td>\n",
       "      <td>83.0</td>\n",
       "      <td>192242</td>\n",
       "    </tr>\n",
       "    <tr>\n",
       "      <th>192242</th>\n",
       "      <td>320580039</td>\n",
       "      <td>32</td>\n",
       "      <td>Zacatecas</td>\n",
       "      <td>58</td>\n",
       "      <td>Santa María de la Paz</td>\n",
       "      <td>39</td>\n",
       "      <td>SAN ISIDRO</td>\n",
       "      <td>x</td>\n",
       "      <td>1032014</td>\n",
       "      <td>212916</td>\n",
       "      <td>...</td>\n",
       "      <td>NaN</td>\n",
       "      <td>NaN</td>\n",
       "      <td>NaN</td>\n",
       "      <td>NaN</td>\n",
       "      <td>NaN</td>\n",
       "      <td>NaN</td>\n",
       "      <td>NaN</td>\n",
       "      <td>NaN</td>\n",
       "      <td>NaN</td>\n",
       "      <td>192243</td>\n",
       "    </tr>\n",
       "    <tr>\n",
       "      <th>192243</th>\n",
       "      <td>320580041</td>\n",
       "      <td>32</td>\n",
       "      <td>Zacatecas</td>\n",
       "      <td>58</td>\n",
       "      <td>Santa María de la Paz</td>\n",
       "      <td>41</td>\n",
       "      <td>SAN MIGUEL TEPETITLÁN</td>\n",
       "      <td>Medio</td>\n",
       "      <td>1032007</td>\n",
       "      <td>213014</td>\n",
       "      <td>...</td>\n",
       "      <td>34.0</td>\n",
       "      <td>29.0</td>\n",
       "      <td>29.0</td>\n",
       "      <td>75.0</td>\n",
       "      <td>24.0</td>\n",
       "      <td>25.0</td>\n",
       "      <td>14.0</td>\n",
       "      <td>26.0</td>\n",
       "      <td>35.0</td>\n",
       "      <td>192244</td>\n",
       "    </tr>\n",
       "    <tr>\n",
       "      <th>192244</th>\n",
       "      <td>320580042</td>\n",
       "      <td>32</td>\n",
       "      <td>Zacatecas</td>\n",
       "      <td>58</td>\n",
       "      <td>Santa María de la Paz</td>\n",
       "      <td>42</td>\n",
       "      <td>SAN RAFAEL</td>\n",
       "      <td>x</td>\n",
       "      <td>1032218</td>\n",
       "      <td>213139</td>\n",
       "      <td>...</td>\n",
       "      <td>NaN</td>\n",
       "      <td>NaN</td>\n",
       "      <td>NaN</td>\n",
       "      <td>NaN</td>\n",
       "      <td>NaN</td>\n",
       "      <td>NaN</td>\n",
       "      <td>NaN</td>\n",
       "      <td>NaN</td>\n",
       "      <td>NaN</td>\n",
       "      <td>192245</td>\n",
       "    </tr>\n",
       "  </tbody>\n",
       "</table>\n",
       "<p>192245 rows × 26 columns</p>\n",
       "</div>"
      ],
      "text/plain": [
       "              _ID  NO_ENT         ENTIDAD  NO_MPIO              MUNICIPIO  \\\n",
       "0        10010001       1  Aguascalientes        1         Aguascalientes   \n",
       "1        10010094       1  Aguascalientes        1         Aguascalientes   \n",
       "2        10010096       1  Aguascalientes        1         Aguascalientes   \n",
       "3        10010100       1  Aguascalientes        1         Aguascalientes   \n",
       "4        10010102       1  Aguascalientes        1         Aguascalientes   \n",
       "...           ...     ...             ...      ...                    ...   \n",
       "192240  320580036      32       Zacatecas       58  Santa María de la Paz   \n",
       "192241  320580037      32       Zacatecas       58  Santa María de la Paz   \n",
       "192242  320580039      32       Zacatecas       58  Santa María de la Paz   \n",
       "192243  320580041      32       Zacatecas       58  Santa María de la Paz   \n",
       "192244  320580042      32       Zacatecas       58  Santa María de la Paz   \n",
       "\n",
       "        NO_LOC                Location   GM_2010     LONG     LAT  ...  \\\n",
       "0            1          AGUASCALIENTES  Muy bajo  1021746  215251  ...   \n",
       "1           94          GRANJA ADELITA         x  1022225  215219  ...   \n",
       "2           96               AGUA AZUL      Alto  1022127  215303  ...   \n",
       "3          100           RANCHO ALEGRE         x  1022222  215116  ...   \n",
       "4          102  LOS ARBOLITOS [RANCHO]         x  1022126  214649  ...   \n",
       "...        ...                     ...       ...      ...     ...  ...   \n",
       "192240      36                 MARINES         x  1032337  213347  ...   \n",
       "192241      37             MESA GRANDE     Medio  1032457  213317  ...   \n",
       "192242      39              SAN ISIDRO         x  1032014  212916  ...   \n",
       "192243      41   SAN MIGUEL TEPETITLÁN     Medio  1032007  213014  ...   \n",
       "192244      42              SAN RAFAEL         x  1032218  213139  ...   \n",
       "\n",
       "         MUJERES  TOTAL_HOGA  VIVPARHA  O_VIVPAR  VPH_RADIO    VPH_TV  \\\n",
       "0       373528.0    184123.0  185050.0  718066.0   167880.0  181062.0   \n",
       "1            NaN         NaN       NaN       NaN        NaN       NaN   \n",
       "2           16.0        11.0      11.0      37.0        8.0      11.0   \n",
       "3            NaN         NaN       NaN       NaN        NaN       NaN   \n",
       "4            NaN         NaN       NaN       NaN        NaN       NaN   \n",
       "...          ...         ...       ...       ...        ...       ...   \n",
       "192240       NaN         NaN       NaN       NaN        NaN       NaN   \n",
       "192241      99.0        47.0      47.0     192.0       43.0      43.0   \n",
       "192242       NaN         NaN       NaN       NaN        NaN       NaN   \n",
       "192243      34.0        29.0      29.0      75.0       24.0      25.0   \n",
       "192244       NaN         NaN       NaN       NaN        NaN       NaN   \n",
       "\n",
       "        POB_0_17  POB_18_59  POB_MAYOR_     OID  \n",
       "0       255352.0   410259.0     56639.0       1  \n",
       "1            NaN        NaN         NaN       2  \n",
       "2           12.0       21.0         4.0       3  \n",
       "3            NaN        NaN         NaN       4  \n",
       "4            NaN        NaN         NaN       5  \n",
       "...          ...        ...         ...     ...  \n",
       "192240       NaN        NaN         NaN  192241  \n",
       "192241      71.0       38.0        83.0  192242  \n",
       "192242       NaN        NaN         NaN  192243  \n",
       "192243      14.0       26.0        35.0  192244  \n",
       "192244       NaN        NaN         NaN  192245  \n",
       "\n",
       "[192245 rows x 26 columns]"
      ]
     },
     "execution_count": 7,
     "metadata": {},
     "output_type": "execute_result"
    }
   ],
   "source": [
    "inegi_data"
   ]
  },
  {
   "cell_type": "code",
   "execution_count": 8,
   "id": "40df0af6",
   "metadata": {},
   "outputs": [
    {
     "data": {
      "text/plain": [
       "112336538"
      ]
     },
     "execution_count": 8,
     "metadata": {},
     "output_type": "execute_result"
    }
   ],
   "source": [
    "pob_total_nac"
   ]
  },
  {
   "cell_type": "code",
   "execution_count": 9,
   "id": "82a59ba9",
   "metadata": {},
   "outputs": [],
   "source": [
    "mycsvdir = './Datos/FM/' #Local path, you can change it to mkae it matc your files route. i.e. '/csv/' , '../../Documents/\"\n",
    "FMcsvfiles = glob.glob(os.path.join(mycsvdir, '*.csv')) #join local path with all .csv files in that route/folder; then group all filenames&file routes in an array called csvfiles.\n",
    "# print (csvfiles) #Shows csvfiles array. Can be removed.\n",
    "ides =[]"
   ]
  },
  {
   "cell_type": "markdown",
   "id": "f5511413",
   "metadata": {},
   "source": [
    "Se leen los documentos .csv que se encuentren en la ruta específicada; en este caso, los archivos csv de la cobertura de las estaciones de FM."
   ]
  },
  {
   "cell_type": "code",
   "execution_count": 10,
   "id": "5f35710d",
   "metadata": {},
   "outputs": [
    {
     "data": {
      "application/vnd.jupyter.widget-view+json": {
       "model_id": "8a4d12824f4e426d93d4a8c390830e68",
       "version_major": 2,
       "version_minor": 0
      },
      "text/plain": [
       "  0%|          | 0/1393 [00:00<?, ?it/s]"
      ]
     },
     "metadata": {},
     "output_type": "display_data"
    }
   ],
   "source": [
    "i=0\n",
    "for csvfile in tqdm(FMcsvfiles):\n",
    "    rawdata=pd.read_csv(csvfile,header=2, encoding = 'latin-1')\n",
    "    rawdata.drop(rawdata.tail(3).index, inplace=True) #Sacamos las ultimas 3 filas del dataset\n",
    "    # rawdata = rawdata.drop(rawdata[rawdata['###']==True].index)\n",
    "    for i in rawdata.index:\n",
    "        ides.append(rawdata[\"_ID\"][i])\n",
    "#     print (\"leido\" + csvfile )\n",
    "Incidenciasperstation = collections.Counter(ides)\n",
    "# print (Incidenciasperstation)"
   ]
  },
  {
   "cell_type": "code",
   "execution_count": 11,
   "id": "e5f5b023",
   "metadata": {},
   "outputs": [
    {
     "data": {
      "application/vnd.jupyter.widget-view+json": {
       "model_id": "3e334e075bf64706aea27acdbabbce0d",
       "version_major": 2,
       "version_minor": 0
      },
      "text/plain": [
       "  0%|          | 0/10 [00:00<?, ?it/s]"
      ]
     },
     "metadata": {},
     "output_type": "display_data"
    }
   ],
   "source": [
    "FM_pdarray = pd.DataFrame(list(Incidenciasperstation.items()),columns = ['_ID','Num']) \n",
    "# print (pd_array)\n",
    "FM_pdarray['_ID']=FM_pdarray['_ID'].astype('int64')\n",
    "\n",
    "tqdm.pandas()\n",
    "FM_pdarray = pd.merge(FM_pdarray,inegi_data[['_ID','ENTIDAD','NO_ENT','LONG','LAT','LONGITUD','LATITUD','POB_TOTAL','VPH_RADIO']], on='_ID', how='left').progress_apply(lambda x: x)\n",
    "# print (pd_array)"
   ]
  },
  {
   "cell_type": "code",
   "execution_count": null,
   "id": "6e37b638",
   "metadata": {},
   "outputs": [
    {
     "name": "stdout",
     "output_type": "stream",
     "text": [
      "Por favor espera 1/3 ...\n",
      "Por favor espera 2/3 ...\n"
     ]
    }
   ],
   "source": [
    "print ('Por favor espera 1/3 ...')\n",
    "writer = pd.ExcelWriter((r'./Datos/listaRadioFM3.xlsx'),engine='openpyxl')\n",
    "print ('Por favor espera 2/3 ...')\n",
    "FM_pdarray.to_excel(writer,index = True, header=True)\n",
    "print ('Por favor espera 3/3 ...')\n",
    "writer.save()\n",
    "print ('Listo')"
   ]
  },
  {
   "cell_type": "code",
   "execution_count": null,
   "id": "752698e0",
   "metadata": {},
   "outputs": [],
   "source": [
    "FM_pdarray"
   ]
  },
  {
   "cell_type": "markdown",
   "id": "6a6f8d16",
   "metadata": {},
   "source": [
    "Ahora se ha generado un Dataframe que contiene para cada una las localidades dentro de la cobertura general :\n",
    "\n",
    "1. ID de la localidad.\n",
    "2. Número de estaciones de **Radio en FM** que la contienen dentro de su cobertura.\n",
    "3. Nombre de la Entidad a la que pertenece.\n",
    "4. Coordenadas geofráficas (Hexagesimales y Decimales en grados).\n",
    "5. Población total.\n",
    "6. Viviendas particulares habitadas que cuentan con radio.\n",
    "\n",
    "Es posible generar datos con valor agregado para cualquier análisis que nos interese. En este caso, generaremos un mapa de localidades con cobertura de estaciones de **Radio en FM**, que distinga el número de estaciones que podrían ser sintonizadas en cada una de ellas, su impacto a nivel de población e intentaremos encontrar una correlación o tendencia que relacione dichos datos gráficos. \n",
    "Esta información, a nivel de *negocio*, permite tomar decisiones interesantes, o encontrar relaciones que sustenten dichas decisiones, por ejemplo, una relación directa entre los centros urbanos y la concentración de estaciones de radio FM, el alcance de las coberturas de las estaciones; y a nivel estratégico, la localización de infraestructura de radioodifusión, que puede estar asociada con la presencia instalaciones de energía eléctrica de alta potencia por ejemplo."
   ]
  },
  {
   "cell_type": "code",
   "execution_count": null,
   "id": "482c787d",
   "metadata": {
    "tags": []
   },
   "outputs": [],
   "source": [
    "FMdata = pd.Series(FM_pdarray[\"Num\"])\n",
    "cmap = plt.get_cmap('viridis', 15)\n",
    "# print (list(pd_array[\"Num\"]))\n",
    "bins_NB = mc.NaturalBreaks(FMdata,15).bins\n",
    "norm = mpl.colors.BoundaryNorm(bins_NB, cmap.N)"
   ]
  },
  {
   "cell_type": "code",
   "execution_count": null,
   "id": "ca923966",
   "metadata": {
    "tags": []
   },
   "outputs": [],
   "source": [
    "fig, ax_FM = plt.subplots(figsize=(22, 14))\n",
    "ax_FM.set_aspect('equal')\n",
    "fp = './Datos/geodata/estatal.shp'\n",
    "\n",
    "base0 = gpd.read_file(fp, encoding = \"utf-8\")\n",
    "base0.crs = \"EPSG:6362\"\n",
    "# base = base0.to_crs({'init': 'epsg:4326'})\n",
    "base = base0.to_crs(\"EPSG:4326\")\n",
    "base.plot(ax=ax_FM, color='white', edgecolor='black')\n",
    "\n",
    "# basee = ax.plot(alpha=0.5, edgecolor='k',color='white')\n",
    "\n",
    "puntos = ax_FM.scatter(\n",
    "    FM_pdarray[\"LONGITUD\"],\n",
    "    FM_pdarray[\"LATITUD\"],\n",
    "    s=0.2,\n",
    "    alpha=1,\n",
    "    c=FM_pdarray[\"Num\"],\n",
    "    cmap=cmap,\n",
    "    norm=norm,\n",
    ")\n",
    "\n",
    "ax_FM.set_title(\"Estaciones de Radio FM en México\")\n",
    "ax_FM.set_xlabel(\"Longitud\")\n",
    "ax_FM.set_ylabel(\"Latitud\")\n",
    "cb = fig.colorbar(puntos)\n",
    "cb.set_label(\"Número de estaciones\")"
   ]
  },
  {
   "cell_type": "markdown",
   "id": "c5104e56",
   "metadata": {},
   "source": [
    "---\n",
    "# Radiodifusión sonora en AM"
   ]
  },
  {
   "cell_type": "markdown",
   "id": "9e6d67d5",
   "metadata": {},
   "source": [
    "Dada la nomenclatura de los archivos de AM; es necesario agregar un diccionario que determine la localidad a la que pertenece cada estación."
   ]
  },
  {
   "cell_type": "code",
   "execution_count": null,
   "id": "a27fc7fd",
   "metadata": {},
   "outputs": [],
   "source": [
    "dictloc = {'ags':'Aguascalientes', 'bc':'Baja California', 'bcs':'Baja California Sur', 'camp':'Campeche', 'coah':'Coahuila de Zaragoza', 'col':'Colima', 'chis':'Chiapas', 'chih':'Chihuahua', 'cdmx':'Ciudad de México', 'dgo':'Durango', 'gto':'Guanajuato','gro':'Guerrero', 'hgo':'Hidalgo', 'jal':'Jalisco','mex':'México', 'mich':'Michoacán de Ocampo', 'mor':'Morelos', 'nay':'Nayarit', 'nl':'Nuevo León','oax':'Oaxaca','pue':'Puebla', 'qro':'Querétaro', 'qroo':'Quintana Roo', 'slp':'San Luis Potosí', 'sin':'Sinaloa', 'son':'Sonora','tab':'Tabasco','tams':'Tamaulipas','tamps':'Tamaulipas','tlax':'Tlaxcala','ver':'Veracruz de Ignacio de la Llave', 'yuc':'Yucatan', 'zac':'Zacatecas'}\n",
    "AMcsvdir = './Datos/AM/' #Local path, you can change it to mkae it matc your files route. i.e. '/csv/' , '../../Documents/\"\n",
    "AMcsvfiles = glob.glob(os.path.join(AMcsvdir, '*.csv')) #join local path with all .csv files in that route/folder; then group all filenames&file routes in an array called csvfiles.\n",
    "# print (csvfiles) #Shows csvfiles array. Can be removed.\n",
    "AMides =[]"
   ]
  },
  {
   "cell_type": "code",
   "execution_count": null,
   "id": "ba61fe5f",
   "metadata": {},
   "outputs": [],
   "source": [
    "i=0\n",
    "for AMcsvfile in tqdm(AMcsvfiles):\n",
    "    rawdata=pd.read_csv(AMcsvfile,encoding = 'latin-1')\n",
    "#     rawdata.drop(rawdata.tail(3).index, inplace=True) #Sacamos las ultimas 3 filas del dataset\n",
    "    # rawdata = rawdata.drop(rawdata[rawdata['###']==True].index)\n",
    "    for i in rawdata.index:\n",
    "        AMides.append(rawdata[\"_ID\"][i])\n",
    "#     print (\"leido\" + csvfile )\n",
    "Incidenciasperstation = collections.Counter(AMides)\n",
    "\n",
    "# print (Incidenciasperstation)"
   ]
  },
  {
   "cell_type": "code",
   "execution_count": null,
   "id": "ee375795",
   "metadata": {},
   "outputs": [],
   "source": [
    "AM_pdarray =[]\n",
    "AM_pdarray = pd.DataFrame(list(Incidenciasperstation.items()),columns = ['_ID','Num']) \n",
    "\n",
    "AM_pdarray = AM_pdarray.apply(pd.to_numeric, errors='coerce')\n",
    "AM_pdarray.dropna(inplace= True)\n",
    "\n",
    "# print (AM_pdarray)\n",
    "tqdm.pandas()\n",
    "AM_pdarray = pd.merge(AM_pdarray,inegi_data[['_ID','ENTIDAD','NO_ENT','LONG','LAT','LONGITUD','LATITUD','POB_TOTAL','VPH_RADIO']], on='_ID', how='left').progress_apply(lambda x: x)\n",
    "# print (AM_pdarray)"
   ]
  },
  {
   "cell_type": "code",
   "execution_count": null,
   "id": "ffa77f05",
   "metadata": {},
   "outputs": [],
   "source": [
    "print ('Por favor espera 1/3 ...')\n",
    "writerAM = pd.ExcelWriter((r'./Datos/CoberturaGralRadioAM.xlsx'),engine='openpyxl')\n",
    "print ('Por favor espera 2/3 ...')\n",
    "AM_pdarray.to_excel(writerAM,index = True, header=True)\n",
    "print ('Por favor espera 3/3 ...')\n",
    "writer.save()\n",
    "print ('ready')"
   ]
  },
  {
   "cell_type": "code",
   "execution_count": null,
   "id": "4d80b53e",
   "metadata": {
    "tags": []
   },
   "outputs": [],
   "source": [
    "AMdata = pd.Series(AM_pdarray[\"Num\"])\n",
    "cmap = plt.get_cmap('viridis', 15)\n",
    "# print (list(pd_array[\"Num\"]))\n",
    "bins_NB_AM = mc.NaturalBreaks(AMdata,15).bins\n",
    "norm = mpl.colors.BoundaryNorm(bins_NB_AM, cmap.N)"
   ]
  },
  {
   "cell_type": "code",
   "execution_count": null,
   "id": "0019676a",
   "metadata": {},
   "outputs": [],
   "source": [
    "# AMdata"
   ]
  },
  {
   "cell_type": "code",
   "execution_count": null,
   "id": "92001928",
   "metadata": {},
   "outputs": [],
   "source": [
    "fig_AM, ax_AM = plt.subplots(figsize=(22, 14))\n",
    "ax_AM.set_aspect('equal')\n",
    "\n",
    "base.plot(ax=ax_AM, color='white', edgecolor='black')\n",
    "\n",
    "puntos_AM = ax_AM.scatter(\n",
    "    AM_pdarray[\"LONGITUD\"],\n",
    "    AM_pdarray[\"LATITUD\"],\n",
    "    s=0.2,\n",
    "    alpha=1,\n",
    "    c=AM_pdarray[\"Num\"],\n",
    "    cmap=cmap,\n",
    "    norm=norm,\n",
    ")\n",
    "\n",
    "ax_AM.set_title(\"Estaciones de Radio AM en México\")\n",
    "ax_AM.set_xlabel(\"Longitud\")\n",
    "ax_AM.set_ylabel(\"Latitud\")\n",
    "cb = fig_AM.colorbar(puntos_AM)\n",
    "cb.set_label(\"Número de estaciones\")\n"
   ]
  },
  {
   "cell_type": "code",
   "execution_count": null,
   "id": "bf779b7a",
   "metadata": {},
   "outputs": [],
   "source": [
    "diff = pd.merge(FM_pdarray[['_ID']], inegi_data[['_ID','ENTIDAD','NO_ENT','LONG','LAT','LONGITUD','LATITUD','POB_TOTAL']],on='_ID', how = 'outer', indicator= True).loc[lambda x : x['_merge']=='right_only']"
   ]
  },
  {
   "cell_type": "markdown",
   "id": "a62425ec",
   "metadata": {},
   "source": [
    "Es posible determinar cuales localidades no se encuentran dentro de la cobertura general, y reflejar dicho listado en un mapa similar al de la cobertura, pero en este caso, para mostrar aquellas localidades que según los archivos de cobertura, no se encuentran en la posiblidad de sintonizar alguna estación de radio FM."
   ]
  },
  {
   "cell_type": "code",
   "execution_count": null,
   "id": "684b5987",
   "metadata": {},
   "outputs": [],
   "source": [
    "diff"
   ]
  },
  {
   "cell_type": "code",
   "execution_count": null,
   "id": "ee9fceba",
   "metadata": {},
   "outputs": [],
   "source": [
    "pob_no_FM = diff['POB_TOTAL'].sum(axis=0)"
   ]
  },
  {
   "cell_type": "code",
   "execution_count": null,
   "id": "77af9616",
   "metadata": {},
   "outputs": [],
   "source": [
    "pob_no_FM"
   ]
  },
  {
   "cell_type": "code",
   "execution_count": null,
   "id": "2883fa64",
   "metadata": {
    "tags": []
   },
   "outputs": [],
   "source": [
    "fig3, ax3 = plt.subplots(figsize=(18, 13))\n",
    "ax3.set_aspect('equal')\n",
    "fp = './Datos/geodata/estatal.shp'\n",
    "\n",
    "base.plot(ax=ax3, color='white', edgecolor='black')\n",
    "puntos = ax3.scatter(\n",
    "    diff[\"LONGITUD\"],\n",
    "    diff[\"LATITUD\"],\n",
    "    s=0.2,\n",
    "    alpha=1,\n",
    "    cmap=cmap,\n",
    "    norm=norm,\n",
    ")\n",
    "\n",
    "ax3.set_title(\"Localidades sin acceso al señal de Radio FM en México\")\n",
    "ax3.set_xlabel(\"Longitud\")\n",
    "ax3.set_ylabel(\"Latitud\")"
   ]
  },
  {
   "cell_type": "code",
   "execution_count": null,
   "id": "69f8e7f9",
   "metadata": {},
   "outputs": [],
   "source": [
    "s = len(diff)\n",
    "Markdown(f\"**Número de localidades a nivel nacional que no cuentan con acceso a Radio FM**: {s}\")\n"
   ]
  },
  {
   "cell_type": "code",
   "execution_count": null,
   "id": "8fcc1526",
   "metadata": {},
   "outputs": [],
   "source": [
    "diff_am = pd.merge(AM_pdarray[['_ID']], inegi_data[['_ID','ENTIDAD','NO_ENT','LONG','LAT','LONGITUD','LATITUD','POB_TOTAL']],on='_ID', how = 'outer', indicator= True).loc[lambda x : x['_merge']=='right_only']\n",
    "pob_no_AM = diff_am['POB_TOTAL'].sum()"
   ]
  },
  {
   "cell_type": "code",
   "execution_count": null,
   "id": "7c7b61c4",
   "metadata": {},
   "outputs": [],
   "source": [
    "diff_am"
   ]
  },
  {
   "cell_type": "code",
   "execution_count": null,
   "id": "c4bea4e7",
   "metadata": {},
   "outputs": [],
   "source": [
    "pob_no_AM"
   ]
  },
  {
   "cell_type": "code",
   "execution_count": null,
   "id": "0649c68e",
   "metadata": {},
   "outputs": [],
   "source": [
    "fig4, ax4 = plt.subplots(figsize=(18, 13))\n",
    "ax4.set_aspect('equal')\n",
    "fp = './Datos/geodata/estatal.shp'\n",
    "base.plot(ax=ax4, color='white', edgecolor='black')\n",
    "\n",
    "puntos = ax4.scatter(\n",
    "    diff_am[\"LONGITUD\"],\n",
    "    diff_am[\"LATITUD\"],\n",
    "    s=0.2,\n",
    "    alpha=1,\n",
    "    cmap=cmap,\n",
    "    norm=norm,\n",
    ")\n",
    "\n",
    "ax4.set_title(\"Localidades sin acceso a señal de Radio AM en México\")\n",
    "ax4.set_xlabel(\"Longitud\")\n",
    "ax4.set_ylabel(\"Latitud\")"
   ]
  },
  {
   "cell_type": "markdown",
   "id": "f4bec7c7",
   "metadata": {},
   "source": [
    "## Análisis conjunto de Radiodifusión sonora. "
   ]
  },
  {
   "cell_type": "code",
   "execution_count": null,
   "id": "77f3bdac",
   "metadata": {},
   "outputs": [],
   "source": [
    "new_base = base.rename(columns={'CVEGEO':'NO_ENT'})"
   ]
  },
  {
   "cell_type": "code",
   "execution_count": null,
   "id": "395aa653",
   "metadata": {},
   "outputs": [],
   "source": [
    "state_locations_FM = FM_pdarray.groupby(['NO_ENT']).count()\n",
    "state_locations_FM=state_locations_FM.reset_index()\n",
    "state_locations_FM['NO_ENT']=state_locations_FM['NO_ENT'].astype('int64')\n",
    "\n",
    "state_locations_AM = AM_pdarray.groupby(['NO_ENT']).count()\n",
    "state_locations_AM=state_locations_AM.reset_index()\n",
    "state_locations_AM['NO_ENT']=state_locations_AM['NO_ENT'].astype('int64')\n",
    "\n",
    "\n",
    "\n",
    "general_locations = inegi_data.groupby(['NO_ENT']).count()\n",
    "general_locations=general_locations.reset_index()\n",
    "general_locations['NO_ENT']=general_locations['NO_ENT'].astype('int64')\n"
   ]
  },
  {
   "cell_type": "markdown",
   "id": "5f5b61ad",
   "metadata": {},
   "source": []
  },
  {
   "cell_type": "code",
   "execution_count": null,
   "id": "a5ae6073",
   "metadata": {},
   "outputs": [],
   "source": [
    "fig = plt.figure(figsize = (20,13))\n",
    "fig.suptitle('Comparación de mapas de presencia de Radiodifusión en AM y FM')\n",
    "\n",
    "gs = fig.add_gridspec(2, 2, hspace=0, wspace=0)\n",
    "(ax1, ax2), (ax3, ax4) = gs.subplots(sharex='col', sharey='row')\n",
    "\n",
    "# axs[1,1].plot(base)\n",
    "\n",
    "base.plot(ax=ax1, color='white', edgecolor='black')\n",
    "base.plot(ax=ax2, color='white', edgecolor='black')\n",
    "base.plot(ax=ax3, color='white', edgecolor='black')\n",
    "base.plot(ax=ax4, color='white', edgecolor='black')\n",
    "\n",
    "puntos = ax1.scatter(\n",
    "    AM_pdarray[\"LONGITUD\"],\n",
    "    AM_pdarray[\"LATITUD\"],\n",
    "    s=0.2,\n",
    "    alpha=1,\n",
    "    c=AM_pdarray[\"Num\"],\n",
    "    cmap=cmap,\n",
    "    norm=norm,\n",
    ")\n",
    "ax1.set_title(\"Cobertura Radio AM\")\n",
    "\n",
    "puntos2 = ax2.scatter(\n",
    "    FM_pdarray[\"LONGITUD\"],\n",
    "    FM_pdarray[\"LATITUD\"],\n",
    "    s=0.2,\n",
    "    alpha=1,\n",
    "    c=FM_pdarray[\"Num\"],\n",
    "    cmap=cmap,\n",
    "    norm=norm,\n",
    ")\n",
    "ax2.set_title(\"Cobertura Radio FM\")\n",
    "puntos = ax4.scatter(\n",
    "    diff[\"LONGITUD\"],\n",
    "    diff[\"LATITUD\"],\n",
    "    s=0.2,\n",
    "    alpha=1,\n",
    "    cmap=cmap,\n",
    "    norm=norm,\n",
    ")\n",
    "\n",
    "puntos = ax3.scatter(\n",
    "    diff_am[\"LONGITUD\"],\n",
    "    diff_am[\"LATITUD\"],\n",
    "    s=0.2,\n",
    "    alpha=1,\n",
    "    cmap=cmap,\n",
    "    norm=norm,\n",
    ")"
   ]
  },
  {
   "cell_type": "markdown",
   "id": "931f92fc",
   "metadata": {},
   "source": []
  },
  {
   "cell_type": "markdown",
   "id": "c999809f",
   "metadata": {},
   "source": [
    "## Summary and Results"
   ]
  },
  {
   "cell_type": "code",
   "execution_count": null,
   "id": "cce308e7",
   "metadata": {},
   "outputs": [],
   "source": [
    "difloc = {}\n",
    "percentajes = {}\n",
    "for i in general_locations.index:\n",
    "    difloc[i] = i+1, general_locations[\"_ID\"][i] - state_locations_FM[\"_ID\"][i], round((state_locations_FM[\"_ID\"][i]/general_locations[\"_ID\"][i])*100,3), round((state_locations_FM[\"_ID\"][i]/general_locations[\"_ID\"][i])*100,3).astype(str) + '%',general_locations[\"_ID\"][i] - state_locations_AM[\"_ID\"][i], round((state_locations_AM[\"_ID\"][i]/general_locations[\"_ID\"][i])*100,3), round((state_locations_AM[\"_ID\"][i]/general_locations[\"_ID\"][i])*100,3).astype(str) + '%'\n",
    "    percentajes[i] = i+1, round((state_locations_FM[\"_ID\"][i]/general_locations[\"_ID\"][i])*100,3)"
   ]
  },
  {
   "cell_type": "code",
   "execution_count": null,
   "id": "33e27459",
   "metadata": {},
   "outputs": [],
   "source": [
    "difloc_pd = pd.DataFrame.from_dict(data = difloc, orient = 'index', columns = ['NO_ENT','Diferencia_FM','Percent_FM','Percent_print_FM','Diferencia_AM','Percent_AM','Percent_print_AM'])"
   ]
  },
  {
   "cell_type": "code",
   "execution_count": null,
   "id": "661ef2e4",
   "metadata": {},
   "outputs": [],
   "source": [
    "new_base\n",
    "new_base['NO_ENT']=new_base['NO_ENT'].astype('int64')"
   ]
  },
  {
   "cell_type": "code",
   "execution_count": null,
   "id": "5b63ca60",
   "metadata": {},
   "outputs": [],
   "source": [
    "n_per_state = pd.merge(new_base,difloc_pd[['NO_ENT','Diferencia_FM','Percent_FM','Percent_print_FM','Diferencia_AM','Percent_AM','Percent_print_AM']], on='NO_ENT', how='left').progress_apply(lambda x: x)\n",
    "# n_per_state = pd.merge(new_base,state_locations[['NO_ENT','Num']], on='NO_ENT', how='left').progress_apply(lambda x: x)\n",
    "\n",
    "n_per_state = n_per_state[['NO_ENT','NOM_ENT','POBTOT','Diferencia_FM','Percent_FM','Percent_print_FM','Diferencia_AM','Percent_AM','Percent_print_AM','geometry']]"
   ]
  },
  {
   "cell_type": "code",
   "execution_count": null,
   "id": "5e5350fd",
   "metadata": {},
   "outputs": [],
   "source": [
    "import json\n",
    "import jupyter_bokeh\n",
    "import bokeh\n",
    "from bokeh.io import show, output_notebook, push_notebook\n",
    "from bokeh.models import (CDSView, ColorBar, ColumnDataSource,\n",
    "                          CustomJS, CustomJSFilter, \n",
    "                          GeoJSONDataSource, HoverTool,\n",
    "                          LinearColorMapper, Slider)\n",
    "from bokeh.layouts import column, row, widgetbox\n",
    "from bokeh.palettes import brewer\n",
    "from bokeh.plotting import figure\n",
    "\n",
    "# Input GeoJSON source that contains features for plotting\n",
    "geosource = GeoJSONDataSource(geojson = n_per_state.to_json())"
   ]
  },
  {
   "cell_type": "code",
   "execution_count": null,
   "id": "25267a43",
   "metadata": {},
   "outputs": [],
   "source": [
    "# Create figure object.\n",
    "output_notebook()\n",
    "p = figure(title = 'Localidades con cobertura de Radio FM', \n",
    "           plot_height = 700 ,\n",
    "           plot_width = 1000, \n",
    "           toolbar_location = 'below',\n",
    "           tools = \"pan, wheel_zoom, box_zoom, reset\")\n",
    "p.xgrid.grid_line_color = None\n",
    "p.ygrid.grid_line_color = None\n",
    "# Add patch renderer to figure.\n",
    "states = p.patches('xs','ys', source = geosource,\n",
    "                   fill_color = 'moccasin',\n",
    "                   line_color = 'gray', \n",
    "                   line_width = 2, \n",
    "                   fill_alpha = 0.3)\n",
    "# Create hover tool\n",
    "p.add_tools(HoverTool(renderers = [states],\n",
    "                      tooltips = [('Estado','@NOM_ENT'),\n",
    "                                ('Población','@POBTOT'),\n",
    "                                 ('Localidades no incluidas FM', '@Diferencia_FM'),\n",
    "                                 ('Porcentaje de cobertura FM', '@Percent_print_FM'),\n",
    "                                 ('Localidades no incluidas AM', '@Diferencia_AM'),\n",
    "                                 ('Porcentaje de cobertura AM', '@Percent_print_AM')]))\n",
    "\n",
    "\n",
    "\n",
    "# show(p)"
   ]
  },
  {
   "cell_type": "code",
   "execution_count": null,
   "id": "4cfe07b5",
   "metadata": {},
   "outputs": [],
   "source": [
    "n_per_state = n_per_state.sort_values(by='Percent_AM', ascending=True)"
   ]
  },
  {
   "cell_type": "code",
   "execution_count": null,
   "id": "2193f1e3",
   "metadata": {},
   "outputs": [],
   "source": [
    "from bokeh.io import output_file, show\n",
    "from bokeh.models import ColumnDataSource, FactorRange\n",
    "from bokeh.plotting import figure\n",
    "from bokeh.transform import dodge\n",
    "\n",
    "\n",
    "# p2 = figure(title = \"Estados\" )\n",
    "# right = n_per_state['NOM_ENT']\n",
    "# y = n_per_state['Percent']\n",
    "# height = 0.5\n",
    "# p2.hbar(y = 'right' ,right= y, height=height)\n",
    "\n",
    "\n",
    "estados = n_per_state['NOM_ENT']\n",
    "# porcentajes =  n_per_state['Percent']\n",
    "source = ColumnDataSource(n_per_state.drop(columns=['geometry']))\n",
    "\n",
    "p2 = figure(y_range=estados, x_range=(0, 100), plot_width=550, title=\"Cobertura de radiodifusión AM/FM\", toolbar_location=None, tools=\"\")\n",
    "\n",
    "p2.hbar(y=dodge('NOM_ENT',  0.35,  range=p2.y_range), right='Percent_AM', height=0.3, source=source,\n",
    "       color=\"#718dbf\",legend_label='AM')\n",
    "\n",
    "p2.hbar(y=dodge('NOM_ENT', 0, range=p2.y_range), right='Percent_FM', height=0.3, source=source,\n",
    "       color=\"salmon\",legend_label='FM')\n",
    "\n",
    "\n",
    "\n",
    "p2.legend.location='bottom_right'\n",
    "\n",
    "p2.y_range.range_padding = 0\n",
    "p2.ygrid.grid_line_color = None\n",
    "\n",
    "layout = bokeh.layouts.layout([\n",
    "    [p,p2]\n",
    "\n",
    "])\n"
   ]
  },
  {
   "cell_type": "code",
   "execution_count": null,
   "id": "e7787bb6",
   "metadata": {},
   "outputs": [],
   "source": [
    "show(layout)"
   ]
  },
  {
   "cell_type": "code",
   "execution_count": null,
   "id": "f52c78ed",
   "metadata": {},
   "outputs": [],
   "source": [
    "n_per_state[['NOM_ENT','POBTOT','Percent_print_AM','Percent_print_FM']]"
   ]
  },
  {
   "cell_type": "code",
   "execution_count": null,
   "id": "927fc483",
   "metadata": {
    "tags": []
   },
   "outputs": [],
   "source": [
    "from math import pi\n",
    "import pandas as pd\n",
    "from bokeh.io import output_file, show\n",
    "from bokeh.palettes import Category20c\n",
    "from bokeh.plotting import figure\n",
    "from bokeh.transform import cumsum\n",
    "from bokeh.models import LabelSet, ColumnDataSource\n",
    "\n",
    "x = {\n",
    "    'Poblacion con Radio FM': pob_total_nac-pob_no_FM,\n",
    "    'Población sin Radio FM': pob_no_FM\n",
    "}\n",
    "\n",
    "data = pd.Series(x).reset_index(name='value').rename(columns={'index':'country'})\n",
    "data['printable_value'] = f' {pob_total_nac-pob_no_FM:,}' , f' {pob_no_FM:,}'\n",
    "data['angle'] = data['value']/data['value'].sum() * 2*pi\n",
    "data['color'] = '#718dbf','salmon'\n",
    "\n",
    "pie_1 = figure(plot_height=350, title=\"Relación de población con Radio FM\", toolbar_location=None,\n",
    "           tools=\"hover\", tooltips=\"@country: @value\", x_range=(-0.5, 1.0))\n",
    "\n",
    "pie_1.wedge(x=0, y=1, radius=0.4,\n",
    "        start_angle=cumsum('angle', include_zero=True), end_angle=cumsum('angle'),\n",
    "        line_color=\"white\", fill_color='color', legend_field='country', source=data)\n",
    "\n",
    "data[\"printable_value\"] = data['printable_value'].astype(str)\n",
    "data[\"printable_value\"] = data[\"printable_value\"].str.pad(47, side = \"left\")\n",
    "source = ColumnDataSource(data)\n",
    "\n",
    "labels = LabelSet(x=0, y=1,text=('printable_value'), angle=cumsum('angle', include_zero=True), source=source, render_mode='canvas')\n",
    "\n",
    "pie_1.add_layout(labels)\n",
    "\n",
    "pie_1.axis.axis_label=None\n",
    "pie_1.axis.visible=False\n",
    "pie_1.grid.grid_line_color = None\n",
    "\n",
    "\n",
    "\n",
    "##################################\n",
    "\n",
    "x2 = {\n",
    "    'Poblacion con Radio AM': pob_total_nac-pob_no_AM,\n",
    "    'Población sin Radio AM': pob_no_AM\n",
    "}\n",
    "\n",
    "data_AM = pd.Series(x2).reset_index(name='value').rename(columns={'index':'country'})\n",
    "data_AM['printable_value'] = f' {pob_total_nac-pob_no_AM:,}' , f' {pob_no_AM:,}'\n",
    "data_AM['angle'] = data_AM['value']/data_AM['value'].sum() * 2*pi\n",
    "data_AM['color'] = '#718dbf','salmon'\n",
    "\n",
    "pie_2 = figure(plot_height=350, title=\"Relación de población con Radio AM\", toolbar_location=None,\n",
    "           tools=\"hover\", tooltips=\"@country: @value\", x_range=(-0.5, 1.0))\n",
    "\n",
    "pie_2.wedge(x=0, y=1, radius=0.4,\n",
    "        start_angle=cumsum('angle', include_zero=True), end_angle=cumsum('angle'),\n",
    "        line_color=\"white\", fill_color='color', legend_field='country', source=data_AM)\n",
    "\n",
    "data_AM[\"printable_value\"] = data_AM['printable_value'].astype(str)\n",
    "data_AM[\"printable_value\"] = data_AM[\"printable_value\"].str.pad(47, side = \"left\")\n",
    "source = ColumnDataSource(data_AM)\n",
    "\n",
    "labels = LabelSet(x=0, y=1,text=('printable_value'), angle=cumsum('angle', include_zero=True), source=source, render_mode='canvas')\n",
    "\n",
    "pie_2.add_layout(labels)\n",
    "\n",
    "pie_2.axis.axis_label=None\n",
    "pie_2.axis.visible=False\n",
    "pie_2.grid.grid_line_color = None\n",
    "\n",
    "\n",
    "layout_pie = bokeh.layouts.layout([\n",
    "    [pie_1,pie_2]])\n",
    "\n",
    "show(layout_pie)"
   ]
  },
  {
   "cell_type": "code",
   "execution_count": null,
   "id": "de5875bf",
   "metadata": {
    "jupyter": {
     "source_hidden": true
    },
    "tags": []
   },
   "outputs": [],
   "source": [
    "per_no_fm = str(round (((pob_total_nac-pob_no_FM)/(pob_total_nac))*100,3)) + \"%\"\n",
    "\n",
    "per_no_am =  (pob_total_nac-pob_no_AM)/pob_total_nac\n",
    "per_no_am  = str(round(per_no_am*100,3)) + \"%\"\n",
    "Markdown(f\"**Porcentaje de habitantes que cuentan con Radio FM a nivel Nacional**: {per_no_fm}\")"
   ]
  },
  {
   "cell_type": "code",
   "execution_count": null,
   "id": "71a7cbc6",
   "metadata": {
    "jupyter": {
     "source_hidden": true
    },
    "tags": []
   },
   "outputs": [],
   "source": [
    "Markdown(f\"**Porcentaje de habitantes que cuentan con Radio AM a nivel Nacional**: {per_no_am}\")"
   ]
  },
  {
   "cell_type": "markdown",
   "id": "e629a765",
   "metadata": {},
   "source": [
    "---\n",
    "## *Fuentes de consulta y referencias*\n",
    "\n",
    "1. **Sistema de Consulta y Preanálisis de Coberturas de Radiodifusión en línea**, *Instituto Federal de Telecomunicaciones (IFT)*;  http://mapasradiodifusion.ift.org.mx/CPCREL-web/consultaCoberturas/consultaCoberturaspasodos.xhtml?dswid=-2197 \n",
    "2. **Censo de Población y Vivienda 2010**, *Instituto Nacional de Estadística, Geografía e Información (INEGI)*; https://www.inegi.org.mx/programas/ccpv/2010/\n",
    "3. **JupyterLab Documentation**, *Project Jupyter.*;https://jupyterlab.readthedocs.io/en/latest/.\n",
    "4. **Python 3.8 Documentation**, *Python Software Foundation*; https://www.python.org/doc/\n",
    "5. **Project pip**, *Python Software Foundation*;  https://pypi.org/project/pip/\n",
    "6. **Repositorio Github by That C# guy**, **\n",
    "\n",
    "\n",
    "## *Apéndice: Consideraciones técnicas*\n",
    "\n",
    "1. **Jenks natural breaks:** Se empleó el método de optimización de Jenks; también conocido como *Método de rupuras naturales* para la clasificación de las escalas de colores, con el objetivo de darle claridad a los segmentos de datos en la visualización; este método de clasificación/optimización permite generar una visualización de datos (principalmente empleado en visualización de datos georeferenciados) óptima al ojo humano para observar la diferencia entre las diversas escalas de color empleadas. El algoritmo principal de cálculo consiste en identificar las \"rupturas naturales\" de un conjunto de datos, de forma que se generan \"secciones\" o \"cubetas\" llamados *bins*, de datos, que se consideran representativos de las diferentes escalas de valores para agrupar en un solo color de representación. \n",
    "\n",
    "2. "
   ]
  },
  {
   "cell_type": "markdown",
   "id": "fa59a992",
   "metadata": {},
   "source": []
  }
 ],
 "metadata": {
  "kernelspec": {
   "display_name": "Python 3",
   "language": "python",
   "name": "python3"
  },
  "language_info": {
   "codemirror_mode": {
    "name": "ipython",
    "version": 3
   },
   "file_extension": ".py",
   "mimetype": "text/x-python",
   "name": "python",
   "nbconvert_exporter": "python",
   "pygments_lexer": "ipython3",
   "version": "3.8.8"
  }
 },
 "nbformat": 4,
 "nbformat_minor": 5
}
